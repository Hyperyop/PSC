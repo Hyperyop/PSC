{
 "cells": [
  {
   "cell_type": "code",
   "execution_count": 29,
   "id": "16446f4c",
   "metadata": {},
   "outputs": [],
   "source": [
    "import tensorflow as tf\n",
    "import os \n",
    "import matplotlib.pyplot as plt\n",
    "import csv\n",
    "import shutil\n",
    "import numpy as np\n",
    "from PIL import Image"
   ]
  },
  {
   "cell_type": "code",
   "execution_count": 12,
   "id": "a6781142",
   "metadata": {},
   "outputs": [],
   "source": [
    "\n",
    "src=os.getcwd()+\"/brainImages\"\n",
    "dst=os.getcwd()+\"/resized_images\""
   ]
  },
  {
   "cell_type": "code",
   "execution_count": 11,
   "id": "8656231f",
   "metadata": {},
   "outputs": [
    {
     "name": "stdout",
     "output_type": "stream",
     "text": [
      "[392, 600]\n"
     ]
    }
   ],
   "source": [
    "L=[900,600]\n",
    "for i in range(2949):\n",
    "    A=plt.imread(src+\"/\"+str(i)+\".png\")\n",
    "    k=A.shape\n",
    "    if(k[0]<L[0]):\n",
    "        L[0]=k[0]\n",
    "    if(k[1]<L[1]):\n",
    "        L[1]=k[1]\n",
    "print(L)"
   ]
  },
  {
   "cell_type": "code",
   "execution_count": 27,
   "id": "f0e6f4df",
   "metadata": {},
   "outputs": [
    {
     "name": "stdout",
     "output_type": "stream",
     "text": [
      "(392, 640, 1)\n"
     ]
    }
   ],
   "source": [
    "A=plt.imread(src+\"/0.png\")\n",
    "\n",
    "A=A[:, :, np.newaxis]\n",
    "print(A.shape)"
   ]
  },
  {
   "cell_type": "code",
   "execution_count": 34,
   "id": "7e99c906",
   "metadata": {},
   "outputs": [],
   "source": [
    "for i in range(2949):\n",
    "    A=Image.open(src+\"/\"+str(i)+\".png\")\n",
    "    A=A.resize((392, 300))\n",
    "    file = open(dst+\"/\"+str(i)+\".png\",\"w\")\n",
    "    file.close()\n",
    "    A.save(dst+\"/\"+str(i)+\".png\",\"PNG\")\n",
    "    A.close()\n",
    "    "
   ]
  },
  {
   "cell_type": "code",
   "execution_count": null,
   "id": "e763e1d6",
   "metadata": {},
   "outputs": [],
   "source": []
  }
 ],
 "metadata": {
  "kernelspec": {
   "display_name": "Python 3",
   "language": "python",
   "name": "python3"
  },
  "language_info": {
   "codemirror_mode": {
    "name": "ipython",
    "version": 3
   },
   "file_extension": ".py",
   "mimetype": "text/x-python",
   "name": "python",
   "nbconvert_exporter": "python",
   "pygments_lexer": "ipython3",
   "version": "3.8.8"
  }
 },
 "nbformat": 4,
 "nbformat_minor": 5
}
